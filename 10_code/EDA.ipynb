{
 "cells": [
  {
   "cell_type": "code",
   "execution_count": 25,
   "metadata": {},
   "outputs": [],
   "source": [
    "#load in packages\n",
    "import pandas as pd\n",
    "import matplotlib.pyplot as plt\n",
    "import geopandas as gpd"
   ]
  },
  {
   "cell_type": "code",
   "execution_count": 27,
   "metadata": {},
   "outputs": [
    {
     "name": "stderr",
     "output_type": "stream",
     "text": [
      "/Users/sadiesheridan/opt/miniconda3/envs/sadie/lib/python3.10/site-packages/geopandas/io/file.py:362: FutureWarning: pandas.Int64Index is deprecated and will be removed from pandas in a future version. Use pandas.Index with the appropriate dtype instead.\n",
      "  pd.Int64Index,\n"
     ]
    }
   ],
   "source": [
    "#Read in Calls data set with epsg 4326\n",
    "dpdcalls = gpd.read_file('/Users/sadiesheridan/Desktop/dpdshapefile/dpdshapefile.shp')\n",
    "dpdcalls = gpd.GeoDataFrame(dpdcalls, geometry=gpd.points_from_xy(dpdcalls.X, dpdcalls.Y))\n",
    "dpdcalls = dpdcalls.set_crs(\"epsg:2264\")\n",
    "dpdcalls = dpdcalls.to_crs(\"epsg:4326\")\n",
    "dpdcalls = dpdcalls.to_file('/Users/sadiesheridan/Desktop/dpdshapefile')"
   ]
  },
  {
   "cell_type": "code",
   "execution_count": 28,
   "metadata": {},
   "outputs": [
    {
     "data": {
      "text/plain": [
       "<Geographic 2D CRS: EPSG:4326>\n",
       "Name: WGS 84\n",
       "Axis Info [ellipsoidal]:\n",
       "- Lat[north]: Geodetic latitude (degree)\n",
       "- Lon[east]: Geodetic longitude (degree)\n",
       "Area of Use:\n",
       "- name: World.\n",
       "- bounds: (-180.0, -90.0, 180.0, 90.0)\n",
       "Datum: World Geodetic System 1984 ensemble\n",
       "- Ellipsoid: WGS 84\n",
       "- Prime Meridian: Greenwich"
      ]
     },
     "execution_count": 28,
     "metadata": {},
     "output_type": "execute_result"
    }
   ],
   "source": [
    "#Printing crs for dpdcalls\n",
    "dpdcalls = gpd.read_file('/Users/sadiesheridan/Desktop/dpdshapefile/dpdshapefile.shp')\n",
    "dpdcalls.crs"
   ]
  },
  {
   "cell_type": "code",
   "execution_count": null,
   "metadata": {},
   "outputs": [
    {
     "data": {
      "text/plain": [
       "<Geographic 2D CRS: EPSG:4326>\n",
       "Name: WGS 84\n",
       "Axis Info [ellipsoidal]:\n",
       "- Lat[north]: Geodetic latitude (degree)\n",
       "- Lon[east]: Geodetic longitude (degree)\n",
       "Area of Use:\n",
       "- name: World.\n",
       "- bounds: (-180.0, -90.0, 180.0, 90.0)\n",
       "Datum: World Geodetic System 1984 ensemble\n",
       "- Ellipsoid: WGS 84\n",
       "- Prime Meridian: Greenwich"
      ]
     },
     "execution_count": 22,
     "metadata": {},
     "output_type": "execute_result"
    }
   ],
   "source": [
    "#Read in Beats data set\n",
    "policebeats = gpd.read_file('/Users/sadiesheridan/Desktop/Police_Beats/Police_Beats.shp')\n",
    "policebeats.crs"
   ]
  },
  {
   "cell_type": "code",
   "execution_count": 29,
   "metadata": {},
   "outputs": [
    {
     "name": "stdout",
     "output_type": "stream",
     "text": [
      "<class 'geopandas.geodataframe.GeoDataFrame'>\n",
      "RangeIndex: 331077 entries, 0 to 331076\n",
      "Data columns (total 15 columns):\n",
      " #   Column      Non-Null Count   Dtype   \n",
      "---  ------      --------------   -----   \n",
      " 0   Event Numb  331077 non-null  int64   \n",
      " 1   Case Numbe  45954 non-null   object  \n",
      " 2   Call Date   331077 non-null  object  \n",
      " 3   Call Time   331077 non-null  object  \n",
      " 4   Source      331077 non-null  object  \n",
      " 5   Priority    330425 non-null  object  \n",
      " 6   Nature      331076 non-null  object  \n",
      " 7   Address     330437 non-null  object  \n",
      " 8   X           331077 non-null  int64   \n",
      " 9   Y           331077 non-null  int64   \n",
      " 10  District    319334 non-null  object  \n",
      " 11  Beat        319315 non-null  object  \n",
      " 12  Dispositio  331077 non-null  object  \n",
      " 13  Cancelled   331077 non-null  int64   \n",
      " 14  geometry    331077 non-null  geometry\n",
      "dtypes: geometry(1), int64(4), object(10)\n",
      "memory usage: 37.9+ MB\n"
     ]
    }
   ],
   "source": [
    "#Print .info() for Calls\n",
    "dpdcalls.info()"
   ]
  },
  {
   "cell_type": "code",
   "execution_count": 30,
   "metadata": {},
   "outputs": [
    {
     "data": {
      "text/plain": [
       "Event Numb         0\n",
       "Case Numbe    285123\n",
       "Call Date          0\n",
       "Call Time          0\n",
       "Source             0\n",
       "Priority         652\n",
       "Nature             1\n",
       "Address          640\n",
       "X                  0\n",
       "Y                  0\n",
       "District       11743\n",
       "Beat           11762\n",
       "Dispositio         0\n",
       "Cancelled          0\n",
       "geometry           0\n",
       "dtype: int64"
      ]
     },
     "execution_count": 30,
     "metadata": {},
     "output_type": "execute_result"
    }
   ],
   "source": [
    "#Print null values with df.isna().sum() function\n",
    "dpdcalls.isna().sum()"
   ]
  },
  {
   "cell_type": "code",
   "execution_count": 31,
   "metadata": {},
   "outputs": [
    {
     "data": {
      "text/html": [
       "<div>\n",
       "<style scoped>\n",
       "    .dataframe tbody tr th:only-of-type {\n",
       "        vertical-align: middle;\n",
       "    }\n",
       "\n",
       "    .dataframe tbody tr th {\n",
       "        vertical-align: top;\n",
       "    }\n",
       "\n",
       "    .dataframe thead th {\n",
       "        text-align: right;\n",
       "    }\n",
       "</style>\n",
       "<table border=\"1\" class=\"dataframe\">\n",
       "  <thead>\n",
       "    <tr style=\"text-align: right;\">\n",
       "      <th></th>\n",
       "      <th>Event Numb</th>\n",
       "      <th>Case Numbe</th>\n",
       "      <th>Call Date</th>\n",
       "      <th>Call Time</th>\n",
       "      <th>Source</th>\n",
       "      <th>Priority</th>\n",
       "      <th>Nature</th>\n",
       "      <th>Address</th>\n",
       "      <th>X</th>\n",
       "      <th>Y</th>\n",
       "      <th>District</th>\n",
       "      <th>Beat</th>\n",
       "      <th>Dispositio</th>\n",
       "      <th>Cancelled</th>\n",
       "      <th>geometry</th>\n",
       "    </tr>\n",
       "  </thead>\n",
       "  <tbody>\n",
       "    <tr>\n",
       "      <th>127</th>\n",
       "      <td>21000194</td>\n",
       "      <td>None</td>\n",
       "      <td>1/1/2021</td>\n",
       "      <td>1:25:25AM</td>\n",
       "      <td>Self Initiated</td>\n",
       "      <td>4</td>\n",
       "      <td>ATTEMPT TO LOCATE</td>\n",
       "      <td>CARELESS AND RECKLESS AT 11 147 NB</td>\n",
       "      <td>0</td>\n",
       "      <td>0</td>\n",
       "      <td>None</td>\n",
       "      <td>None</td>\n",
       "      <td>(blank)</td>\n",
       "      <td>0</td>\n",
       "      <td>POINT (-85.56829 33.56815)</td>\n",
       "    </tr>\n",
       "    <tr>\n",
       "      <th>131</th>\n",
       "      <td>21000199</td>\n",
       "      <td>None</td>\n",
       "      <td>1/1/2021</td>\n",
       "      <td>1:29:04AM</td>\n",
       "      <td>Self Initiated</td>\n",
       "      <td>4</td>\n",
       "      <td>ATTEMPT TO LOCATE</td>\n",
       "      <td>CARELESS AND RECKLESS AT 147S AND BLACKWELL ST</td>\n",
       "      <td>0</td>\n",
       "      <td>0</td>\n",
       "      <td>None</td>\n",
       "      <td>None</td>\n",
       "      <td>(blank)</td>\n",
       "      <td>0</td>\n",
       "      <td>POINT (-85.56829 33.56815)</td>\n",
       "    </tr>\n",
       "    <tr>\n",
       "      <th>210</th>\n",
       "      <td>21000322</td>\n",
       "      <td>None</td>\n",
       "      <td>1/1/2021</td>\n",
       "      <td>3:56:22AM</td>\n",
       "      <td>Self Initiated</td>\n",
       "      <td>5</td>\n",
       "      <td>DIRECTED PATROL</td>\n",
       "      <td>3407 3RD FORK RD</td>\n",
       "      <td>0</td>\n",
       "      <td>0</td>\n",
       "      <td>None</td>\n",
       "      <td>None</td>\n",
       "      <td>Cancelled</td>\n",
       "      <td>1</td>\n",
       "      <td>POINT (-85.56829 33.56815)</td>\n",
       "    </tr>\n",
       "    <tr>\n",
       "      <th>255</th>\n",
       "      <td>21000381</td>\n",
       "      <td>None</td>\n",
       "      <td>1/1/2021</td>\n",
       "      <td>6:14:49AM</td>\n",
       "      <td>Self Initiated</td>\n",
       "      <td>4</td>\n",
       "      <td>ATTEMPT TO LOCATE</td>\n",
       "      <td>CARELESS AND RECKLESS AT 1010 N DURHAM FREEWAY</td>\n",
       "      <td>0</td>\n",
       "      <td>0</td>\n",
       "      <td>None</td>\n",
       "      <td>None</td>\n",
       "      <td>(blank)</td>\n",
       "      <td>0</td>\n",
       "      <td>POINT (-85.56829 33.56815)</td>\n",
       "    </tr>\n",
       "    <tr>\n",
       "      <th>274</th>\n",
       "      <td>21000409</td>\n",
       "      <td>None</td>\n",
       "      <td>1/1/2021</td>\n",
       "      <td>7:03:23AM</td>\n",
       "      <td>Self Initiated</td>\n",
       "      <td>4</td>\n",
       "      <td>FOLLOW UP</td>\n",
       "      <td>SS1</td>\n",
       "      <td>0</td>\n",
       "      <td>0</td>\n",
       "      <td>None</td>\n",
       "      <td>None</td>\n",
       "      <td>Resolved Without Report</td>\n",
       "      <td>0</td>\n",
       "      <td>POINT (-85.56829 33.56815)</td>\n",
       "    </tr>\n",
       "    <tr>\n",
       "      <th>...</th>\n",
       "      <td>...</td>\n",
       "      <td>...</td>\n",
       "      <td>...</td>\n",
       "      <td>...</td>\n",
       "      <td>...</td>\n",
       "      <td>...</td>\n",
       "      <td>...</td>\n",
       "      <td>...</td>\n",
       "      <td>...</td>\n",
       "      <td>...</td>\n",
       "      <td>...</td>\n",
       "      <td>...</td>\n",
       "      <td>...</td>\n",
       "      <td>...</td>\n",
       "      <td>...</td>\n",
       "    </tr>\n",
       "    <tr>\n",
       "      <th>330699</th>\n",
       "      <td>21477803</td>\n",
       "      <td>21045233</td>\n",
       "      <td>12/31/2021</td>\n",
       "      <td>6:00:48PM</td>\n",
       "      <td>Mobil</td>\n",
       "      <td>4</td>\n",
       "      <td>ATTEMPT TO LOCATE</td>\n",
       "      <td>UNAUTHORIZED USE AT 215 WILLIAM PENN PLAZA APT...</td>\n",
       "      <td>0</td>\n",
       "      <td>0</td>\n",
       "      <td>None</td>\n",
       "      <td>None</td>\n",
       "      <td>(blank)</td>\n",
       "      <td>0</td>\n",
       "      <td>POINT (-85.56829 33.56815)</td>\n",
       "    </tr>\n",
       "    <tr>\n",
       "      <th>330858</th>\n",
       "      <td>21478039</td>\n",
       "      <td>None</td>\n",
       "      <td>12/31/2021</td>\n",
       "      <td>8:24:41PM</td>\n",
       "      <td>Self Initiated</td>\n",
       "      <td>4</td>\n",
       "      <td>ATTEMPT TO LOCATE</td>\n",
       "      <td>CARELESS AND RECKLESS AT 4623 DURHAM CHAPEL HI...</td>\n",
       "      <td>0</td>\n",
       "      <td>0</td>\n",
       "      <td>None</td>\n",
       "      <td>None</td>\n",
       "      <td>(blank)</td>\n",
       "      <td>0</td>\n",
       "      <td>POINT (-85.56829 33.56815)</td>\n",
       "    </tr>\n",
       "    <tr>\n",
       "      <th>330963</th>\n",
       "      <td>21478179</td>\n",
       "      <td>None</td>\n",
       "      <td>12/31/2021</td>\n",
       "      <td>10:06:37PM</td>\n",
       "      <td>Self Initiated</td>\n",
       "      <td>4</td>\n",
       "      <td>PROPERTY CHECK</td>\n",
       "      <td>1223 HOMECOMING WY</td>\n",
       "      <td>0</td>\n",
       "      <td>0</td>\n",
       "      <td>None</td>\n",
       "      <td>None</td>\n",
       "      <td>Resolved Without Report</td>\n",
       "      <td>0</td>\n",
       "      <td>POINT (-85.56829 33.56815)</td>\n",
       "    </tr>\n",
       "    <tr>\n",
       "      <th>331057</th>\n",
       "      <td>21478324</td>\n",
       "      <td>None</td>\n",
       "      <td>12/31/2021</td>\n",
       "      <td>11:45:43PM</td>\n",
       "      <td>Self Initiated</td>\n",
       "      <td>4</td>\n",
       "      <td>ATTEMPT TO LOCATE</td>\n",
       "      <td>CARELESS AND RECKLESS AT 17900 I85 S</td>\n",
       "      <td>0</td>\n",
       "      <td>0</td>\n",
       "      <td>None</td>\n",
       "      <td>None</td>\n",
       "      <td>(blank)</td>\n",
       "      <td>0</td>\n",
       "      <td>POINT (-85.56829 33.56815)</td>\n",
       "    </tr>\n",
       "    <tr>\n",
       "      <th>331071</th>\n",
       "      <td>21478346</td>\n",
       "      <td>None</td>\n",
       "      <td>12/31/2021</td>\n",
       "      <td>11:54:20PM</td>\n",
       "      <td>Self Initiated</td>\n",
       "      <td>4</td>\n",
       "      <td>ATTEMPT TO LOCATE</td>\n",
       "      <td>ATTEMPT TO LOCATE AT CHAPEL HILL RD/DUKE UNIVE...</td>\n",
       "      <td>0</td>\n",
       "      <td>0</td>\n",
       "      <td>None</td>\n",
       "      <td>None</td>\n",
       "      <td>(blank)</td>\n",
       "      <td>0</td>\n",
       "      <td>POINT (-85.56829 33.56815)</td>\n",
       "    </tr>\n",
       "  </tbody>\n",
       "</table>\n",
       "<p>8932 rows × 15 columns</p>\n",
       "</div>"
      ],
      "text/plain": [
       "        Event Numb Case Numbe   Call Date   Call Time          Source  \\\n",
       "127       21000194       None    1/1/2021   1:25:25AM  Self Initiated   \n",
       "131       21000199       None    1/1/2021   1:29:04AM  Self Initiated   \n",
       "210       21000322       None    1/1/2021   3:56:22AM  Self Initiated   \n",
       "255       21000381       None    1/1/2021   6:14:49AM  Self Initiated   \n",
       "274       21000409       None    1/1/2021   7:03:23AM  Self Initiated   \n",
       "...            ...        ...         ...         ...             ...   \n",
       "330699    21477803   21045233  12/31/2021   6:00:48PM           Mobil   \n",
       "330858    21478039       None  12/31/2021   8:24:41PM  Self Initiated   \n",
       "330963    21478179       None  12/31/2021  10:06:37PM  Self Initiated   \n",
       "331057    21478324       None  12/31/2021  11:45:43PM  Self Initiated   \n",
       "331071    21478346       None  12/31/2021  11:54:20PM  Self Initiated   \n",
       "\n",
       "       Priority             Nature  \\\n",
       "127           4  ATTEMPT TO LOCATE   \n",
       "131           4  ATTEMPT TO LOCATE   \n",
       "210           5    DIRECTED PATROL   \n",
       "255           4  ATTEMPT TO LOCATE   \n",
       "274           4          FOLLOW UP   \n",
       "...         ...                ...   \n",
       "330699        4  ATTEMPT TO LOCATE   \n",
       "330858        4  ATTEMPT TO LOCATE   \n",
       "330963        4     PROPERTY CHECK   \n",
       "331057        4  ATTEMPT TO LOCATE   \n",
       "331071        4  ATTEMPT TO LOCATE   \n",
       "\n",
       "                                                  Address  X  Y District  \\\n",
       "127                    CARELESS AND RECKLESS AT 11 147 NB  0  0     None   \n",
       "131        CARELESS AND RECKLESS AT 147S AND BLACKWELL ST  0  0     None   \n",
       "210                                      3407 3RD FORK RD  0  0     None   \n",
       "255        CARELESS AND RECKLESS AT 1010 N DURHAM FREEWAY  0  0     None   \n",
       "274                                                   SS1  0  0     None   \n",
       "...                                                   ... .. ..      ...   \n",
       "330699  UNAUTHORIZED USE AT 215 WILLIAM PENN PLAZA APT...  0  0     None   \n",
       "330858  CARELESS AND RECKLESS AT 4623 DURHAM CHAPEL HI...  0  0     None   \n",
       "330963                                 1223 HOMECOMING WY  0  0     None   \n",
       "331057               CARELESS AND RECKLESS AT 17900 I85 S  0  0     None   \n",
       "331071  ATTEMPT TO LOCATE AT CHAPEL HILL RD/DUKE UNIVE...  0  0     None   \n",
       "\n",
       "        Beat               Dispositio  Cancelled                    geometry  \n",
       "127     None                  (blank)          0  POINT (-85.56829 33.56815)  \n",
       "131     None                  (blank)          0  POINT (-85.56829 33.56815)  \n",
       "210     None                Cancelled          1  POINT (-85.56829 33.56815)  \n",
       "255     None                  (blank)          0  POINT (-85.56829 33.56815)  \n",
       "274     None  Resolved Without Report          0  POINT (-85.56829 33.56815)  \n",
       "...      ...                      ...        ...                         ...  \n",
       "330699  None                  (blank)          0  POINT (-85.56829 33.56815)  \n",
       "330858  None                  (blank)          0  POINT (-85.56829 33.56815)  \n",
       "330963  None  Resolved Without Report          0  POINT (-85.56829 33.56815)  \n",
       "331057  None                  (blank)          0  POINT (-85.56829 33.56815)  \n",
       "331071  None                  (blank)          0  POINT (-85.56829 33.56815)  \n",
       "\n",
       "[8932 rows x 15 columns]"
      ]
     },
     "execution_count": 31,
     "metadata": {},
     "output_type": "execute_result"
    }
   ],
   "source": [
    "#Looking at records with coordinates zero\n",
    "dpdcalls.loc[(dpdcalls[\"X\"] == 0) | (dpdcalls[\"Y\"] == 0)]"
   ]
  },
  {
   "cell_type": "code",
   "execution_count": 32,
   "metadata": {},
   "outputs": [
    {
     "data": {
      "text/plain": [
       "(322145, 15)"
      ]
     },
     "execution_count": 32,
     "metadata": {},
     "output_type": "execute_result"
    }
   ],
   "source": [
    "#Filter out null x and y values\n",
    "dpdcalls = dpdcalls.loc[~(dpdcalls[\"X\"] == 0) & ~(dpdcalls[\"Y\"] == 0)].copy()\n",
    "dpdcalls.shape"
   ]
  },
  {
   "cell_type": "code",
   "execution_count": 38,
   "metadata": {},
   "outputs": [
    {
     "data": {
      "text/plain": [
       "(122803, 15)"
      ]
     },
     "execution_count": 38,
     "metadata": {},
     "output_type": "execute_result"
    }
   ],
   "source": [
    "#Filter out cancelled calls and self initiated calls\n",
    "dpdcalls = dpdcalls.loc[dpdcalls[\"Source\"] != \"Self Initiated\"].copy()\n",
    "dpdcalls = dpdcalls.loc[dpdcalls[\"Cancelled\"] == 0].copy()\n",
    "dpdcalls.shape"
   ]
  },
  {
   "cell_type": "code",
   "execution_count": 39,
   "metadata": {},
   "outputs": [
    {
     "name": "stdout",
     "output_type": "stream",
     "text": [
      "<class 'geopandas.geodataframe.GeoDataFrame'>\n",
      "Int64Index: 122803 entries, 0 to 331065\n",
      "Data columns (total 15 columns):\n",
      " #   Column      Non-Null Count   Dtype   \n",
      "---  ------      --------------   -----   \n",
      " 0   Event Numb  122803 non-null  int64   \n",
      " 1   Case Numbe  34318 non-null   object  \n",
      " 2   Call Date   122803 non-null  object  \n",
      " 3   Call Time   122803 non-null  object  \n",
      " 4   Source      122803 non-null  object  \n",
      " 5   Priority    122258 non-null  object  \n",
      " 6   Nature      122803 non-null  object  \n",
      " 7   Address     122803 non-null  object  \n",
      " 8   X           122803 non-null  int64   \n",
      " 9   Y           122803 non-null  int64   \n",
      " 10  District    122148 non-null  object  \n",
      " 11  Beat        122128 non-null  object  \n",
      " 12  Dispositio  122803 non-null  object  \n",
      " 13  Cancelled   122803 non-null  int64   \n",
      " 14  geometry    122803 non-null  geometry\n",
      "dtypes: geometry(1), int64(4), object(10)\n",
      "memory usage: 15.0+ MB\n"
     ]
    }
   ],
   "source": [
    "#Print changes\n",
    "dpdcalls.info()"
   ]
  },
  {
   "cell_type": "code",
   "execution_count": null,
   "metadata": {},
   "outputs": [],
   "source": [
    "#Merge Calls and Beats data sets\n"
   ]
  },
  {
   "cell_type": "code",
   "execution_count": null,
   "metadata": {},
   "outputs": [],
   "source": [
    "#Summary statistics per beat with visualizations"
   ]
  },
  {
   "cell_type": "code",
   "execution_count": null,
   "metadata": {},
   "outputs": [],
   "source": [
    "#Merge population data"
   ]
  }
 ],
 "metadata": {
  "interpreter": {
   "hash": "1d06676b194546f395e4d857c00ad483dcc3efb29de6fab4918295e38aa91734"
  },
  "kernelspec": {
   "display_name": "Python 3.10.4 ('sadie')",
   "language": "python",
   "name": "python3"
  },
  "language_info": {
   "codemirror_mode": {
    "name": "ipython",
    "version": 3
   },
   "file_extension": ".py",
   "mimetype": "text/x-python",
   "name": "python",
   "nbconvert_exporter": "python",
   "pygments_lexer": "ipython3",
   "version": "3.10.4"
  },
  "orig_nbformat": 4
 },
 "nbformat": 4,
 "nbformat_minor": 2
}
