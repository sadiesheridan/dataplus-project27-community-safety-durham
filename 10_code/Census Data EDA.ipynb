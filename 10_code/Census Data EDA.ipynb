{
 "cells": [
  {
   "cell_type": "code",
   "execution_count": 1,
   "metadata": {},
   "outputs": [],
   "source": [
    "#Load in packages\n",
    "import pandas as pd\n",
    "import matplotlib.pyplot as plt\n",
    "import geopandas as gpd\n",
    "import numpy as np\n",
    "import contextily as cx\n",
    "import warnings\n",
    "import os"
   ]
  },
  {
   "cell_type": "code",
   "execution_count": null,
   "metadata": {},
   "outputs": [],
   "source": [
    "#Load in "
   ]
  },
  {
   "cell_type": "code",
   "execution_count": null,
   "metadata": {},
   "outputs": [],
   "source": [
    "#Assign each census block to a police beat with for loop\n",
    "cblockIndexToBeat = {}\n",
    "sIndex = policebeats.sindex\n",
    "\n",
    "for cblock_ind in durhamblockmap.index:\n",
    "    cblock_geom = durhamblockmap.loc[cblock_ind][\"geometry\"]\n",
    "    possibleBeatMatches = list(sIndex.intersection(cblock_geom.bounds))\n",
    "    matched = False\n",
    "\n",
    "    if len(possibleBeatMatches) > 0:\n",
    "        possibleMatches = policebeats.iloc[possibleBeatMatches]\n",
    "        intersectingAreas = possibleMatches.intersection(cblock_geom).area\n",
    "        intersectingAreas /= cblock_geom.area\n",
    "        police_beat_index = intersectingAreas.idxmax()\n",
    "        maxIntersection = intersectingAreas.max()\n",
    "    ##########\n",
    "        if maxIntersection < 0.1:\n",
    "            continue\n",
    "    ##########\n",
    "        if maxIntersection > 0:\n",
    "            cblockIndexToBeat[cblock_ind] = policebeats.loc[police_beat_index]['LAWBEAT']\n",
    "            matched = True\n",
    "\n",
    "cblockDurhamBeats = ncblockmap[ncblockmap.index.isin(cblockIndexToBeat)]\n",
    "cblockDurhamBeats['Beat'] = cblockDurhamBeats.index.map(lambda ii: cblockIndexToBeat[ii])\n",
    "\n",
    "warnings.filterwarnings('ignore')"
   ]
  },
  {
   "cell_type": "code",
   "execution_count": null,
   "metadata": {},
   "outputs": [],
   "source": [
    "#Make index GEOID20\n",
    "durhamracebeat = cblockDurhamBeats.set_index('GEOID20').join(racedata.set_index('GEOID20'))\n",
    "durhamracebeat.head(3)"
   ]
  },
  {
   "cell_type": "code",
   "execution_count": null,
   "metadata": {},
   "outputs": [],
   "source": [
    "#Change the column names\n",
    "durhamracebeat.columns = durhamracebeat.columns.str.strip().str.lower().str.replace(' ', '_').str.replace('(', '').str.replace(')', '')\n",
    "durhamracebeat.columns = durhamracebeat.columns.str.replace('[#,@,&,!]', '')\n",
    "durhamracebeat.columns = durhamracebeat.columns.str.replace('[:]', '_')\n",
    "durhamracebeat.head()\n",
    "\n",
    "warnings.filterwarnings('ignore')"
   ]
  },
  {
   "cell_type": "code",
   "execution_count": null,
   "metadata": {},
   "outputs": [],
   "source": [
    "#Find the proportion of specific races compared to the total population\n",
    "durhamracebeat['propwhite']= durhamracebeat['total_population_of_one_race_white_alone'] / durhamracebeat['total_']\n",
    "durhamracebeat['propblack']= durhamracebeat['total_population_of_one_race_black_or_african_american_alone'] / durhamracebeat['total_']"
   ]
  },
  {
   "cell_type": "code",
   "execution_count": null,
   "metadata": {},
   "outputs": [],
   "source": [
    "#Plot chloropleth map with merged data for white population\n",
    "fig, ax = plt.subplots(figsize = (10,10))\n",
    "\n",
    "durhamracebeat.plot(column='propwhite',\n",
    "                                legend=True,\n",
    "                                cmap=\"viridis\", ax=ax, aspect=1);\n",
    "\n",
    "plt.title(\"Proportion of each Beat in Durham that is White alone\\n(Does not include mixed persons)\")\n",
    "plt.xlabel(\"Latitude\")\n",
    "plt.ylabel(\"Longitude\")\n",
    "plt.show()"
   ]
  },
  {
   "cell_type": "code",
   "execution_count": null,
   "metadata": {},
   "outputs": [],
   "source": [
    "#Plot chloropleth map with merged data for Black population\n",
    "fig, ax = plt.subplots(figsize = (10,10))\n",
    "\n",
    "durhamracebeat.plot(column='propblack',\n",
    "                                legend=True,\n",
    "                                cmap=\"viridis\", ax=ax, aspect=1);\n",
    "\n",
    "plt.title(\"Proportion of each Block in Durham that is Black or African American alone\\n(Does not include mixed persons)\")\n",
    "plt.xlabel(\"Latitude\")\n",
    "plt.ylabel(\"Longitude\")\n",
    "plt.show()"
   ]
  },
  {
   "cell_type": "code",
   "execution_count": null,
   "metadata": {},
   "outputs": [],
   "source": [
    "#Merging race data into the police beat and block data\n",
    "beatswithrace = pd.merge(racedata, cblockDurhamBeats, on ='GEOID20')\n",
    "beatswithrace.head(3)"
   ]
  },
  {
   "cell_type": "code",
   "execution_count": null,
   "metadata": {},
   "outputs": [],
   "source": [
    "#Grouping the population by police beat\n",
    "popsumbybeat = beatswithrace.groupby('Beat', as_index=False).sum()\n",
    "popsumbybeat.head()"
   ]
  },
  {
   "cell_type": "code",
   "execution_count": null,
   "metadata": {},
   "outputs": [],
   "source": [
    "#Adding beat geometry to popsumbybeat\n",
    "raceineachbeat = pd.merge(popsumbybeat, policebeats, left_on='Beat', right_on='LAWBEAT')\n",
    "raceineachbeat.head(3)"
   ]
  },
  {
   "cell_type": "code",
   "execution_count": null,
   "metadata": {},
   "outputs": [],
   "source": [
    "#Setting the beat as the index\n",
    "raceineachbeat = popsumbybeat.set_index('Beat').join(policebeats.set_index('LAWBEAT'))\n",
    "raceineachbeat.head(3)"
   ]
  },
  {
   "cell_type": "code",
   "execution_count": null,
   "metadata": {},
   "outputs": [],
   "source": [
    "#Seeing how many blocks there are per beat\n",
    "blocksperbeat = beatswithrace.groupby( [\"Beat\"] ).size().to_frame(name = 'block_count').reset_index()\n",
    "meanblocksperbeat = blocksperbeat[[\"block_count\"]].mean()\n",
    "meanblocksperbeat"
   ]
  }
 ],
 "metadata": {
  "interpreter": {
   "hash": "1d06676b194546f395e4d857c00ad483dcc3efb29de6fab4918295e38aa91734"
  },
  "kernelspec": {
   "display_name": "Python 3.10.4 ('sadie')",
   "language": "python",
   "name": "python3"
  },
  "language_info": {
   "codemirror_mode": {
    "name": "ipython",
    "version": 3
   },
   "file_extension": ".py",
   "mimetype": "text/x-python",
   "name": "python",
   "nbconvert_exporter": "python",
   "pygments_lexer": "ipython3",
   "version": "3.10.4"
  },
  "orig_nbformat": 4
 },
 "nbformat": 4,
 "nbformat_minor": 2
}
